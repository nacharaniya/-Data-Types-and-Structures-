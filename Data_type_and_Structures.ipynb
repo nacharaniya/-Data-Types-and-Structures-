{
  "nbformat": 4,
  "nbformat_minor": 0,
  "metadata": {
    "colab": {
      "provenance": []
    },
    "kernelspec": {
      "name": "python3",
      "display_name": "Python 3"
    },
    "language_info": {
      "name": "python"
    }
  },
  "cells": [
    {
      "cell_type": "markdown",
      "source": [
        "# Data Types and Structures Questions"
      ],
      "metadata": {
        "id": "zfr2PNjabpRC"
      }
    },
    {
      "cell_type": "markdown",
      "source": [
        "## Theory Question"
      ],
      "metadata": {
        "id": "3qiEloXi2S6D"
      }
    },
    {
      "cell_type": "markdown",
      "source": [
        "Q1.\n",
        "==>Data structure are specialized formats for organizing,sorting and accessing collection of data. It is efficient way to manage data.\n",
        "They are important because choosing right data structure significantly impacts the efficieny and performance of program."
      ],
      "metadata": {
        "id": "FYDKs5pN2jv7"
      }
    },
    {
      "cell_type": "markdown",
      "source": [
        "Q2.\n",
        "==> Mutable data type mean the created can be changed whereas in an immutable data type item created cannot be changed.\n",
        "**List** is a mutable data type\n",
        "**Tuples** are immutable data type\n"
      ],
      "metadata": {
        "id": "Ypakq1HcxGWm"
      }
    },
    {
      "cell_type": "markdown",
      "source": [
        "  Q3.\n",
        "==> List are mutable and Tuples are immutable data type."
      ],
      "metadata": {
        "id": "FzJCrL2QBll4"
      }
    },
    {
      "cell_type": "markdown",
      "source": [
        "Q4.\n",
        "==>In dictionaries data is stored in form of unique key-value pair."
      ],
      "metadata": {
        "id": "4zY0xi02CP6D"
      }
    },
    {
      "cell_type": "markdown",
      "source": [
        "Q5.\n",
        "==>In order to avoid duplicate entries"
      ],
      "metadata": {
        "id": "4ZYoQR8JDF9Q"
      }
    },
    {
      "cell_type": "markdown",
      "source": [
        "Q6.\n",
        "==>String stores the characters arranged in an unchangeable order. string is immutable whereas list are mutable."
      ],
      "metadata": {
        "id": "wFPrJatlERN4"
      }
    },
    {
      "cell_type": "markdown",
      "source": [
        "Q7.\n",
        "==>Tuples ensure data integrity because tuples are immutable."
      ],
      "metadata": {
        "id": "g5uPcdEHFFHN"
      }
    },
    {
      "cell_type": "markdown",
      "source": [
        "Q8.\n",
        "==> A hash table is a data structure, and Python's dictionaries are an implementation of that data structure.\n",
        "\n",
        "Relationship is that a Python dictionary uses a hash function to map keys to a specific location in memory. When you add a key-value pair to a dictionary, the key is \"hashed\", which tells the dictionary where to store the value. This process allows for extremely fast lookups and retrievals."
      ],
      "metadata": {
        "id": "oNNsuthQFnb4"
      }
    },
    {
      "cell_type": "markdown",
      "source": [
        "Q9.\n",
        "==> Yes a list can conatian different data types in Python"
      ],
      "metadata": {
        "id": "ziALXvrAMPcR"
      }
    },
    {
      "cell_type": "markdown",
      "source": [
        "Q10.==>Strings are immutable becuase  in string charactera are arranged in an unchangeable order"
      ],
      "metadata": {
        "id": "iRnhvWsebieb"
      }
    },
    {
      "cell_type": "markdown",
      "source": [
        "Q11.==> Dictionaries are better than lists when you need to quickly look up data using a key (like a name or ID) instead of an index."
      ],
      "metadata": {
        "id": "kk22VV6Yb-N9"
      }
    },
    {
      "cell_type": "markdown",
      "source": [
        "Q12==> Tuple are preferable over list where data is to be secured and do not allow modifiction."
      ],
      "metadata": {
        "id": "mRSQbPEPc3Bc"
      }
    },
    {
      "cell_type": "markdown",
      "source": [
        "Q13==>Set do not allow duplicate data"
      ],
      "metadata": {
        "id": "GLM3I-eydjaR"
      }
    },
    {
      "cell_type": "markdown",
      "source": [
        "Q14==>In list, the 'in' keyword checks if a specific element exists within the list.In dictionary, the 'in' keyword checks if a specific key exists within the dictionary."
      ],
      "metadata": {
        "id": "Q3wG3qGBd4_p"
      }
    },
    {
      "cell_type": "markdown",
      "source": [
        "Q15==>No, the elements of a tuple cannot be modified becuase Tuples are immutable data structures"
      ],
      "metadata": {
        "id": "62BOTul7et7g"
      }
    },
    {
      "cell_type": "markdown",
      "source": [
        "Q16.==>A nested dictionary is a dictionary where the values associated with some keys are themselves other dictionaries."
      ],
      "metadata": {
        "id": "O0r_Z6R6fEK2"
      }
    },
    {
      "cell_type": "markdown",
      "source": [
        "Q17. ==> In dictionary accessing time is an average time complexity . This means that, on average, the time taken to retrieve an element from a dictionary is constant and does not depend on the size of the dictionary."
      ],
      "metadata": {
        "id": "yPHo4S10gAvf"
      }
    },
    {
      "cell_type": "markdown",
      "source": [
        "Q18.==> Lists are preferred over dictionaries when the order of elements is important or when you need to store a simple collection of items that you will access by their position."
      ],
      "metadata": {
        "id": "-ig4vszEgyn6"
      }
    },
    {
      "cell_type": "markdown",
      "source": [
        "Q19.==> Dictionaries were traditionally considered unordered because, their internal structure (a hash table) did not preserve the order in which items were added. This meant that iterating over a dictionary could produce items in an unpredictable sequence.\n",
        "\n",
        "However, this lack of order did not affect data retrieval by key. Retrieving a value is always fast because it relies on the key's hash value to find its location directly, regardless of where other items are stored."
      ],
      "metadata": {
        "id": "1N7K_oDvaCvZ"
      }
    },
    {
      "cell_type": "markdown",
      "source": [
        "Q20.==> Retrieving data from a list is based on its position or index, while retrieving data from a dictionary is based on its unique, associated key."
      ],
      "metadata": {
        "id": "Nb2EMsWFbPvR"
      }
    },
    {
      "cell_type": "markdown",
      "source": [
        "## Practical Questions"
      ],
      "metadata": {
        "id": "JcUvhsXsbdpr"
      }
    },
    {
      "cell_type": "markdown",
      "source": [],
      "metadata": {
        "id": "0n_TP5VgZ6RF"
      }
    },
    {
      "cell_type": "code",
      "source": [
        "#1\n",
        "str='Nizar'\n",
        "print(str)\n"
      ],
      "metadata": {
        "colab": {
          "base_uri": "https://localhost:8080/"
        },
        "id": "_Ska6gVxmczG",
        "outputId": "05601a54-3be0-488d-a9dc-808fe94c296c"
      },
      "execution_count": null,
      "outputs": [
        {
          "output_type": "stream",
          "name": "stdout",
          "text": [
            "Nizar\n"
          ]
        }
      ]
    },
    {
      "cell_type": "code",
      "source": [
        "#2\n",
        "str='hello world'\n",
        "l=len(str)\n",
        "print(l)"
      ],
      "metadata": {
        "colab": {
          "base_uri": "https://localhost:8080/"
        },
        "id": "LsRR27JdmmFe",
        "outputId": "9f36c4da-fd69-468b-d125-0fb1100b5662"
      },
      "execution_count": null,
      "outputs": [
        {
          "output_type": "stream",
          "name": "stdout",
          "text": [
            "11\n"
          ]
        }
      ]
    },
    {
      "cell_type": "code",
      "source": [
        "#3\n",
        "str='python programming'\n",
        "str2=str[3:]\n",
        "print(str2)\n"
      ],
      "metadata": {
        "colab": {
          "base_uri": "https://localhost:8080/"
        },
        "id": "JrtFJprYm6cV",
        "outputId": "c518e2af-b377-49b9-8200-de31cfcf36fc"
      },
      "execution_count": null,
      "outputs": [
        {
          "output_type": "stream",
          "name": "stdout",
          "text": [
            "hon programming\n"
          ]
        }
      ]
    },
    {
      "cell_type": "code",
      "source": [
        "#4\n",
        "str='hello'\n",
        "str=str.upper()\n",
        "print(str)"
      ],
      "metadata": {
        "colab": {
          "base_uri": "https://localhost:8080/"
        },
        "id": "1j2GhE7L22kO",
        "outputId": "dcbd726a-5c83-4d06-f2a3-124728efaa39"
      },
      "execution_count": null,
      "outputs": [
        {
          "output_type": "stream",
          "name": "stdout",
          "text": [
            "HELLO\n"
          ]
        }
      ]
    },
    {
      "cell_type": "code",
      "source": [
        "#5\n",
        "str='I like apple'\n",
        "str1=str.replace('apple','orange')\n",
        "print(str1)"
      ],
      "metadata": {
        "colab": {
          "base_uri": "https://localhost:8080/"
        },
        "id": "qgCtrnle3rVV",
        "outputId": "ae109564-63c1-4ecb-bebe-e5d35142c231"
      },
      "execution_count": null,
      "outputs": [
        {
          "output_type": "stream",
          "name": "stdout",
          "text": [
            "I like orange\n"
          ]
        }
      ]
    },
    {
      "cell_type": "code",
      "source": [
        "#6\n",
        "lst=[1,2,3,4,5]\n",
        "print(lst)"
      ],
      "metadata": {
        "colab": {
          "base_uri": "https://localhost:8080/"
        },
        "id": "Zi_g6ve_4ZFP",
        "outputId": "7ef05d9c-d77d-4a40-b3c5-ca346204f276"
      },
      "execution_count": null,
      "outputs": [
        {
          "output_type": "stream",
          "name": "stdout",
          "text": [
            "[1, 2, 3, 4, 5]\n"
          ]
        }
      ]
    },
    {
      "cell_type": "code",
      "source": [
        "#7\n",
        "lst=[1,2,3,4]\n",
        "lst.append(10)\n",
        "print(lst)"
      ],
      "metadata": {
        "colab": {
          "base_uri": "https://localhost:8080/"
        },
        "id": "gebsaSoJ4oxx",
        "outputId": "243456f3-6b1d-42be-b419-8e6ff2c977f0"
      },
      "execution_count": null,
      "outputs": [
        {
          "output_type": "stream",
          "name": "stdout",
          "text": [
            "[1, 2, 3, 4, 10]\n"
          ]
        }
      ]
    },
    {
      "cell_type": "code",
      "source": [
        "#8\n",
        "lst=[1,2,3,4,5]\n",
        "del lst[2]\n",
        "print(lst)"
      ],
      "metadata": {
        "colab": {
          "base_uri": "https://localhost:8080/"
        },
        "id": "M1e-CDDa5Ld0",
        "outputId": "d5771d83-9202-4844-c40a-ec964c1720f5"
      },
      "execution_count": null,
      "outputs": [
        {
          "output_type": "stream",
          "name": "stdout",
          "text": [
            "[1, 2, 4, 5]\n"
          ]
        }
      ]
    },
    {
      "cell_type": "code",
      "source": [
        "#9\n",
        "lst=['a','b','c','d']\n",
        "print(lst[1])"
      ],
      "metadata": {
        "colab": {
          "base_uri": "https://localhost:8080/"
        },
        "id": "p86IEH055mVx",
        "outputId": "604460c2-aba0-4c7d-a80c-4d70998128e8"
      },
      "execution_count": null,
      "outputs": [
        {
          "output_type": "stream",
          "name": "stdout",
          "text": [
            "b\n"
          ]
        }
      ]
    },
    {
      "cell_type": "code",
      "source": [
        "#10\n",
        "lst=[10,20,30,40,50]\n",
        "lst.reverse()\n",
        "print(lst)"
      ],
      "metadata": {
        "colab": {
          "base_uri": "https://localhost:8080/"
        },
        "id": "Zv61dxvI595_",
        "outputId": "c60957b8-217f-4722-b87c-09ed5aff3223"
      },
      "execution_count": null,
      "outputs": [
        {
          "output_type": "stream",
          "name": "stdout",
          "text": [
            "[50, 40, 30, 20, 10]\n"
          ]
        }
      ]
    },
    {
      "cell_type": "code",
      "source": [
        "#11\n",
        "tpl=(100,200,300)\n",
        "print(tpl)"
      ],
      "metadata": {
        "colab": {
          "base_uri": "https://localhost:8080/"
        },
        "id": "s7knFVMA6dSA",
        "outputId": "53eebb62-9f14-4b28-8bfd-a3ec3e028ea0"
      },
      "execution_count": null,
      "outputs": [
        {
          "output_type": "stream",
          "name": "stdout",
          "text": [
            "(100, 200, 300)\n"
          ]
        }
      ]
    },
    {
      "cell_type": "code",
      "source": [
        "#12\n",
        "tpl=('red','green','blue','yellow')\n",
        "print(tpl[2])"
      ],
      "metadata": {
        "colab": {
          "base_uri": "https://localhost:8080/"
        },
        "id": "HcB9cSo265lV",
        "outputId": "d25a0f6a-2598-41b7-a907-bd4a9a137cbb"
      },
      "execution_count": null,
      "outputs": [
        {
          "output_type": "stream",
          "name": "stdout",
          "text": [
            "blue\n"
          ]
        }
      ]
    },
    {
      "cell_type": "code",
      "source": [
        "#13\n",
        "tpl=(10,20,5,15)\n",
        "min_val=min(tpl)\n",
        "print(m_val)"
      ],
      "metadata": {
        "colab": {
          "base_uri": "https://localhost:8080/"
        },
        "id": "F8cTR3657k-c",
        "outputId": "65437286-3a79-4653-b99e-e47aaa6bb24c"
      },
      "execution_count": null,
      "outputs": [
        {
          "output_type": "stream",
          "name": "stdout",
          "text": [
            "5\n"
          ]
        }
      ]
    },
    {
      "cell_type": "code",
      "source": [
        "#14\n",
        "tpl=('dog','cat','rabbit')\n",
        "ind=tpl.index('cat')\n",
        "print(ind)"
      ],
      "metadata": {
        "colab": {
          "base_uri": "https://localhost:8080/"
        },
        "id": "iKvsC6Lg8QO5",
        "outputId": "36a95e87-6110-4b90-9afe-83855ad2f3b0"
      },
      "execution_count": null,
      "outputs": [
        {
          "output_type": "stream",
          "name": "stdout",
          "text": [
            "1\n"
          ]
        }
      ]
    },
    {
      "cell_type": "code",
      "source": [
        "#15\n",
        "tpl=(\"orangr\",\"mango\",\"kiwi\",\"apple\")\n",
        "if \"kiwi\" in tpl:\n",
        "     print(\" kiwi in tuple\")\n",
        "else:\n",
        "     print(\"no kiwi\")"
      ],
      "metadata": {
        "colab": {
          "base_uri": "https://localhost:8080/"
        },
        "id": "msG7uU0k8wsD",
        "outputId": "d8b986e2-d5b2-4304-fdff-0903aa1e8745"
      },
      "execution_count": null,
      "outputs": [
        {
          "output_type": "stream",
          "name": "stdout",
          "text": [
            " kiwi in tuple\n"
          ]
        }
      ]
    },
    {
      "cell_type": "code",
      "source": [
        "#16\n",
        "ss={'a','b','c'}\n",
        "type(ss)\n",
        "print(ss)"
      ],
      "metadata": {
        "colab": {
          "base_uri": "https://localhost:8080/"
        },
        "id": "MdYuNGzF-rZW",
        "outputId": "91f5e5e5-f5fc-4331-ff83-cc27f8fcd9c8"
      },
      "execution_count": null,
      "outputs": [
        {
          "output_type": "stream",
          "name": "stdout",
          "text": [
            "{'c', 'a', 'b'}\n"
          ]
        }
      ]
    },
    {
      "cell_type": "code",
      "source": [
        "#17\n",
        "ss={1,2,3,4,5}\n",
        "print(ss)\n",
        "ss.clear()\n",
        "print(ss)"
      ],
      "metadata": {
        "colab": {
          "base_uri": "https://localhost:8080/"
        },
        "id": "HgTHBJW7_GGh",
        "outputId": "3244cf3f-2a13-4398-e574-a002d3bcd944"
      },
      "execution_count": null,
      "outputs": [
        {
          "output_type": "stream",
          "name": "stdout",
          "text": [
            "{1, 2, 3, 4, 5}\n",
            "set()\n"
          ]
        }
      ]
    },
    {
      "cell_type": "code",
      "source": [
        "#18\n",
        "ss={1,2,3,4}\n",
        "print(ss)\n",
        "ss.remove(4)\n",
        "print(ss)"
      ],
      "metadata": {
        "colab": {
          "base_uri": "https://localhost:8080/"
        },
        "id": "zsaILPXQ_mGy",
        "outputId": "55efd1b2-9262-4334-884e-0274b9c2b16f"
      },
      "execution_count": null,
      "outputs": [
        {
          "output_type": "stream",
          "name": "stdout",
          "text": [
            "{1, 2, 3, 4}\n",
            "{1, 2, 3}\n"
          ]
        }
      ]
    },
    {
      "cell_type": "code",
      "source": [
        "#19\n",
        "ss1={1,2,3}\n",
        "ss2={3,4,5}\n",
        "ss3=ss1|ss2\n",
        "print(ss3)"
      ],
      "metadata": {
        "colab": {
          "base_uri": "https://localhost:8080/"
        },
        "id": "7NTWvzoXAH6f",
        "outputId": "048872d9-3a13-4c8e-8f86-b3766635562a"
      },
      "execution_count": null,
      "outputs": [
        {
          "output_type": "stream",
          "name": "stdout",
          "text": [
            "{1, 2, 3, 4, 5}\n"
          ]
        }
      ]
    },
    {
      "cell_type": "code",
      "source": [
        "#20\n",
        "ss1={1,2,3}\n",
        "ss2={2,3,4}\n",
        "ss3=ss1&ss2\n",
        "print(ss3)"
      ],
      "metadata": {
        "colab": {
          "base_uri": "https://localhost:8080/"
        },
        "id": "6owCYFxHAk0y",
        "outputId": "c061bb2d-c284-4a65-b10c-6442ef845040"
      },
      "execution_count": null,
      "outputs": [
        {
          "output_type": "stream",
          "name": "stdout",
          "text": [
            "{2, 3}\n"
          ]
        }
      ]
    },
    {
      "cell_type": "code",
      "source": [
        "#21\n",
        "Dict={\"name\":\"gopal\", \"age\":25,\"city\":\"mumbai\"}\n",
        "print(Dict)\n",
        "type(Dict)\n"
      ],
      "metadata": {
        "colab": {
          "base_uri": "https://localhost:8080/"
        },
        "id": "C5h78HziBBYg",
        "outputId": "72edb0d5-3240-4b29-90bf-3972fe497e57"
      },
      "execution_count": null,
      "outputs": [
        {
          "output_type": "stream",
          "name": "stdout",
          "text": [
            "{'name': 'gopal', 'age': 25, 'city': 'mumbai'}\n"
          ]
        },
        {
          "output_type": "execute_result",
          "data": {
            "text/plain": [
              "dict"
            ]
          },
          "metadata": {},
          "execution_count": 51
        }
      ]
    },
    {
      "cell_type": "code",
      "source": [
        "#22\n",
        "dict={\"name\":'John', \"age\":25}\n",
        "print(dict)\n",
        "dict[\"country\"]=\"Newyork\"\n",
        "print(dict)"
      ],
      "metadata": {
        "colab": {
          "base_uri": "https://localhost:8080/"
        },
        "id": "kjS0iE--NLsq",
        "outputId": "25b2d851-6941-4df6-e6be-87aeabb69004"
      },
      "execution_count": null,
      "outputs": [
        {
          "output_type": "stream",
          "name": "stdout",
          "text": [
            "{'name': 'John', 'age': 25}\n",
            "{'name': 'John', 'age': 25, 'country': 'Newyork'}\n"
          ]
        }
      ]
    },
    {
      "cell_type": "code",
      "source": [
        "#23\n",
        "dict={'name':'Alice','Age':25}\n",
        "nn=dict['name']\n",
        "print(nn)"
      ],
      "metadata": {
        "colab": {
          "base_uri": "https://localhost:8080/"
        },
        "id": "4iAdA1hqOolA",
        "outputId": "b24ed1f5-954f-47ca-a465-ee34e0f944bd"
      },
      "execution_count": null,
      "outputs": [
        {
          "output_type": "stream",
          "name": "stdout",
          "text": [
            "Alice\n"
          ]
        }
      ]
    },
    {
      "cell_type": "code",
      "source": [
        "#24\n",
        "dict={\"name\":'Bob', \"age\":22,'City':'Newyork'}\n",
        "print(dict)\n",
        "del dict[\"age\"]\n",
        "print(dict)"
      ],
      "metadata": {
        "colab": {
          "base_uri": "https://localhost:8080/"
        },
        "id": "vEdLen_TPZGj",
        "outputId": "85146149-dde4-4d9d-8e82-69c8131e2dfd"
      },
      "execution_count": null,
      "outputs": [
        {
          "output_type": "stream",
          "name": "stdout",
          "text": [
            "{'name': 'Bob', 'age': 22, 'City': 'Newyork'}\n",
            "{'name': 'Bob', 'City': 'Newyork'}\n"
          ]
        }
      ]
    },
    {
      "cell_type": "code",
      "source": [
        "#25\n",
        "\n",
        "dict={\"name\":'Alice', \"city\":'Paris'}\n",
        "print(dict)\n",
        "check_key='city'\n",
        "if check_key in dict:\n",
        "  print(\"There is a key 'city' in the dict\")\n",
        "else:\n",
        "  print(\"No, There is no key 'city' in the dict\")"
      ],
      "metadata": {
        "colab": {
          "base_uri": "https://localhost:8080/"
        },
        "id": "ITbr6CalQ1_g",
        "outputId": "71eeb1f9-eb4e-4dce-e4ad-9b0b52998d0d"
      },
      "execution_count": null,
      "outputs": [
        {
          "output_type": "stream",
          "name": "stdout",
          "text": [
            "{'name': 'Alice', 'city': 'Paris'}\n",
            "No, There is no key 'city' in the dict\n"
          ]
        }
      ]
    },
    {
      "cell_type": "code",
      "source": [
        "#26\n",
        "lst=[1,2,3,4,'anil',23.56]\n",
        "tpl=(1,4,3.45,'gopal')\n",
        "dict={'name': 'gopal','Age':26,'City':'Mumbai'}\n",
        "print(lst)\n",
        "print(tpl)\n",
        "print(dict)"
      ],
      "metadata": {
        "colab": {
          "base_uri": "https://localhost:8080/"
        },
        "id": "mNgf43FVUAm7",
        "outputId": "9fe5db1a-55f9-4f0a-ba41-c09ebd1bd0fe"
      },
      "execution_count": null,
      "outputs": [
        {
          "output_type": "stream",
          "name": "stdout",
          "text": [
            "[1, 2, 3, 4, 'anil', 23.56]\n",
            "(1, 4, 3.45, 'gopal')\n",
            "{'name': 'gopal', 'Age': 26, 'City': 'Mumbai'}\n"
          ]
        }
      ]
    },
    {
      "cell_type": "code",
      "source": [
        "#27\n",
        "import random\n",
        "lst=[]\n",
        "lst = random.sample(range(1,10),5)\n",
        "print(\"List berfore sorting\", lst)\n",
        "lst.sort()\n",
        "print(\"list after sorting\",lst)"
      ],
      "metadata": {
        "colab": {
          "base_uri": "https://localhost:8080/"
        },
        "id": "5mq6wfuAVng8",
        "outputId": "33fc3558-9dc2-4fb8-a9fd-30f130902bcb"
      },
      "execution_count": null,
      "outputs": [
        {
          "output_type": "stream",
          "name": "stdout",
          "text": [
            "List berfore sorting [9, 8, 3, 6, 4]\n",
            "list after sorting [3, 4, 6, 8, 9]\n"
          ]
        }
      ]
    },
    {
      "cell_type": "code",
      "source": [
        "#28\n",
        "lst=[\"Gopal\"]\n",
        "print(lst[0][2])"
      ],
      "metadata": {
        "colab": {
          "base_uri": "https://localhost:8080/"
        },
        "id": "2707UOZGbJ5d",
        "outputId": "97ebd077-a1c0-44b9-f7a3-d6e3de66a729"
      },
      "execution_count": null,
      "outputs": [
        {
          "output_type": "stream",
          "name": "stdout",
          "text": [
            "p\n"
          ]
        }
      ]
    },
    {
      "cell_type": "code",
      "source": [
        "#29\n",
        "dict1={'Name':'Gopal','Age':25,'city':'Mumbai'}\n",
        "dict2={'Salary':'24500','Gender':'male'}\n",
        "dict1.update(dict2)\n",
        "print(dict1)"
      ],
      "metadata": {
        "colab": {
          "base_uri": "https://localhost:8080/"
        },
        "id": "X_seCXI5qZ1B",
        "outputId": "b9171ad6-b7cc-46a1-cb5b-357b9ecce34d"
      },
      "execution_count": null,
      "outputs": [
        {
          "output_type": "stream",
          "name": "stdout",
          "text": [
            "{'Name': 'Gopal', 'Age': 25, 'city': 'Mumbai', 'Salary': '24500', 'Gender': 'male'}\n"
          ]
        }
      ]
    },
    {
      "cell_type": "code",
      "source": [
        "#30\n",
        "lst=['Ajay','Gopal','Anil','Raju','Ajay','Anil']\n",
        "print(lst)\n",
        "ss=set(lst)\n",
        "print(ss)"
      ],
      "metadata": {
        "colab": {
          "base_uri": "https://localhost:8080/"
        },
        "id": "Cq9R24dIsADd",
        "outputId": "0de9335c-2fb2-498d-8623-73229c877483"
      },
      "execution_count": null,
      "outputs": [
        {
          "output_type": "stream",
          "name": "stdout",
          "text": [
            "['Ajay', 'Gopal', 'Anil', 'Raju', 'Ajay', 'Anil']\n",
            "{'Anil', 'Raju', 'Ajay', 'Gopal'}\n"
          ]
        }
      ]
    }
  ]
}